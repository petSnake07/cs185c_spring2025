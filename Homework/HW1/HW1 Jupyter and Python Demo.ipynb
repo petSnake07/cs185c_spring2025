{
 "cells": [
  {
   "cell_type": "markdown",
   "id": "64c80c9b",
   "metadata": {},
   "source": [
    "# Homework 1: Python, Jupyter, and Github\n",
    "\n",
    "In this class, we'll make extensive use of:\n",
    "- Python for data processing and visualization\n",
    "- Jupyter notebooks for interactive coding\n",
    "- Github for managing code and other files\n",
    "\n",
    "In this homework, you'll demo your `conda` environment, test out a few plots, and upload your notebook to Github."
   ]
  },
  {
   "cell_type": "markdown",
   "id": "aea80324",
   "metadata": {},
   "source": [
    "## Demo 1: Anaconda environment\n",
    "\n",
    "Run the following code to demo the name of your conda environment:"
   ]
  },
  {
   "cell_type": "code",
   "execution_count": null,
   "id": "6f8414a1",
   "metadata": {},
   "outputs": [],
   "source": [
    "import os\n",
    "print('My current conda environment is: '+os.environ['CONDA_DEFAULT_ENV'])"
   ]
  },
  {
   "cell_type": "markdown",
   "id": "9f0f4546",
   "metadata": {},
   "source": [
    "## Demo 2: Python Packages\n",
    "In this course, we will make use of several data processing and visualization packages. Import them here to ensure they work:"
   ]
  },
  {
   "cell_type": "code",
   "execution_count": null,
   "id": "aef5f923-ad45-44b1-8d4e-2d17ba5a4390",
   "metadata": {},
   "outputs": [],
   "source": [
    "# import some packages to ensure they work\n",
    "import numpy as np\n",
    "import matplotlib.pyplot as plt\n",
    "import xarray as xr\n",
    "import netCDF4 as nc4\n",
    "import cartopy.crs as ccrs\n",
    "import cartopy.feature as cfeature"
   ]
  },
  {
   "cell_type": "markdown",
   "id": "970238f3-75d7-4577-a201-3d3492c9572f",
   "metadata": {},
   "source": [
    "For a sneak peak, run the following code blocks to make a cool map of sea surface temperature on the globe:"
   ]
  },
  {
   "cell_type": "code",
   "execution_count": null,
   "id": "5a98ded7-6414-44f5-9fab-50e855890683",
   "metadata": {},
   "outputs": [],
   "source": [
    "ds = xr.open_dataset('SST_20150101.nc',decode_times=False)\n",
    "longitude = ds['LONGITUDE_T'][:]\n",
    "latitude = ds['LATITUDE_T'][:]\n",
    "SST = ds['SST'][:,:,:]\n",
    "ds.close()\n",
    "SST = SST[0,:,:]"
   ]
  },
  {
   "cell_type": "code",
   "execution_count": null,
   "id": "4a5f39c0",
   "metadata": {},
   "outputs": [],
   "source": [
    "# make a plot of sst here\n",
    "plt.figure()\n",
    "ax = plt.axes(projection=ccrs.Robinson())\n",
    "C = plt.pcolormesh(longitude, latitude, SST,\n",
    "                   transform=ccrs.PlateCarree(),\n",
    "                   vmin=2, vmax=30, cmap='turbo')\n",
    "plt.colorbar(C, label='Temperature $^{\\circ}$C', fraction=0.026)\n",
    "plt.gca().add_feature(cfeature.LAND, zorder=99, facecolor='silver')\n",
    "plt.gca().coastlines()\n",
    "plt.show()"
   ]
  },
  {
   "cell_type": "markdown",
   "id": "bae0e829-1675-4a4e-bffa-2108cc6e5d4c",
   "metadata": {},
   "source": [
    "## Problem 1.3: Course Github Repository"
   ]
  },
  {
   "cell_type": "markdown",
   "id": "5961fec3-73e5-4501-aae3-ba305b435b1a",
   "metadata": {},
   "source": [
    "In this course, all of the course materials will be managed and turned in on Github. If you haven't already done so, make an account Github account and create a repository for this class following the instructions [HERE](https://profmikewood.github.io/ocean_modeling_book/getting_started/setting_up_a_github_repository.html). \n",
    "\n",
    "In your repository, make a directory for `homework` and another subdirectory for `homework 1`, and upload this folder to your Github repository. When your repository is ready it should look like the homework directory in my example [spring2025](https://github.com/ProfMikeWood/cs185c_spring2025/tree/main/homework) repository.\n"
   ]
  }
 ],
 "metadata": {
  "kernelspec": {
   "display_name": "cs185c",
   "language": "python",
   "name": "cs185c"
  },
  "language_info": {
   "codemirror_mode": {
    "name": "ipython",
    "version": 3
   },
   "file_extension": ".py",
   "mimetype": "text/x-python",
   "name": "python",
   "nbconvert_exporter": "python",
   "pygments_lexer": "ipython3",
   "version": "3.11.9"
  }
 },
 "nbformat": 4,
 "nbformat_minor": 5
}
