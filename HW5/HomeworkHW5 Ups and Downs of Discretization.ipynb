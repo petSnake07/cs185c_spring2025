{
 "cells": [
  {
   "cell_type": "markdown",
   "id": "37a15b21-b63a-496f-9f36-18c16f2126f4",
   "metadata": {},
   "source": [
    "# Homework 5: Ups and Downs of Discretization\n",
    "\n",
    "#### Overview:\n",
    "In this homework, you will consider a classic example of an ordinary differential equation - the harmonic oscillator. In particular, you'll first consider the analytical solution and then compare with a numerical solution by discretizing the equation.\n",
    "\n",
    "#### Import modules\n",
    "Begin by importing modules to conduct calculations and make plots."
   ]
  },
  {
   "cell_type": "code",
   "execution_count": null,
   "id": "bf8a458e-0fa2-42a5-90e5-202b8d563f45",
   "metadata": {},
   "outputs": [],
   "source": [
    "# import modules here"
   ]
  },
  {
   "cell_type": "markdown",
   "id": "78dbc86d-ed39-4e3b-b967-9f3282f142cc",
   "metadata": {},
   "source": [
    "## Problem Description\n",
    "The set-up for this equation is relatively simple: consider the following diagram which shows a mass on a string set up on a horizontal track:"
   ]
  },
  {
   "cell_type": "markdown",
   "id": "825c3ef4-6323-47b0-9566-9ae56530b66b",
   "metadata": {},
   "source": [
    "![Spring Diagram](Spring_Diagram.png)"
   ]
  },
  {
   "cell_type": "markdown",
   "id": "f7234b7f-52af-457e-93a3-8cefb2b46d2b",
   "metadata": {},
   "source": [
    "In this scenario, the weight has mass $m$ and the string has a certain \"stiffness\". Further, we may consider friction on the track as the mass moves back and forth.\n",
    "\n",
    "#### Physical Setting\n",
    "\n",
    "There are three laws that describe the setting:\n",
    "\n",
    "##### Hooke's Law\n",
    "Hooke's law dictates that a spring experiences a restoring force which is proportional to its displacement. The constant of proportionality ($k$) reflects the stiffness of the spring. The force is written as:\n",
    "\n",
    "$$\n",
    "F_{Hooke} = -kx\n",
    "$$\n",
    "\n",
    "##### Friction\n",
    "An object in motion along a surface experiences a force proportional to its speed. The constant of proportionality ($\\mu$) reflects the \"bumpiness\" of the surface. The force is written as\n",
    "\n",
    "$$\n",
    "F_{friction} = -\\mu x'\n",
    "$$\n",
    "\n",
    "##### Newton's Second Law\n",
    "Newton's second law indicates that the forces on an object are equal to its mass times its acceleration, i.e.\n",
    "\n",
    "$$\n",
    "F = ma = mx''\n",
    "$$\n",
    "\n",
    "\n",
    "#### Differential Equation\n",
    "By equating the total force $F$ to that of friction and Hooke's law, we can formulate the differential equation for the solution as:\n",
    "\n",
    "$$\n",
    "x''(t) + \\frac{\\mu}{m}x'(t) + \\frac{k}{m}x(t) = 0\n",
    "$$\n",
    "\n",
    "\n",
    "\n",
    "##### Initial Conditions\n",
    "If we'd like to predict the full trajectory of our mass on the spring through time we also need to have the initial conditions - where it starts and how fast it is moving. For this example, let's consider that we stretch the spring a give distance $x_0$ from is starting position and let it go from there. In other words:\n",
    "\n",
    "$$\n",
    "\\begin{align}\n",
    "x(0) &= x_0\\\\\n",
    "x'(0) &= 0\n",
    "\\end{align}\n",
    "$$\n",
    "\n",
    "where $x_0$ is the initial displacement of the weight and $0$ represents the initial velocity of the weight (at rest). \n",
    "\n",
    "#### Note:\n",
    "For this homework, assume that $\\mu = 0$ so that there is no friction and the equation simplifies to \n",
    "$$\n",
    "x''(t) + \\frac{k}{m}x(t) = 0\n",
    "$$\n",
    "Complete the following parts with this assumption.\n",
    "\n",
    "#### Optional Challenge\n",
    "If you'd like a challenge, then you can instead solve for $\\mu \\neq 0$ in the parts below. "
   ]
  },
  {
   "cell_type": "markdown",
   "id": "faaf7854-3b8c-4a82-8d06-7d0bfa4603fa",
   "metadata": {},
   "source": [
    "## Part 1: An Analytical Solution\n",
    "\n",
    "In this example, the analytical solutions for the trajectory for the mass over time are given by:\n",
    "\n",
    "##### Option with $\\mu = 0$:\n",
    "\n",
    "$$\n",
    "x(t) = x_0 \\cos\\left(\\sqrt{\\frac{k}{m}} t\\right)\n",
    "$$\n",
    "\n",
    "##### Challenge Option (with $\\mu \\neq 0$):\n",
    "\n",
    "$$\n",
    "x(t) = x_0 \\exp\\left( -\\frac{\\mu}{2m}t \\right) \\cos\\left( \\sqrt{\\frac{k}{m} - \\frac{\\mu^2}{4m^2} }t \\right) \n",
    "$$\n",
    "\n",
    "For whichever option you are pursuing in this homework, show that\n",
    "1. The solution indeed satisfies the differential equation\n",
    "2. The solution satisfies the initial condition $x(0)= x_0$\n",
    "\n",
    "If you are familiar with LaTex, you can enter you solutions here. Otherwise, you can write you solutions on paper, scan them, and turn them in on Canvas.\n",
    "\n",
    "#### Solution:"
   ]
  },
  {
   "cell_type": "code",
   "execution_count": null,
   "id": "72d7b4f8-2aa3-4180-9854-dbeaa7e5be72",
   "metadata": {},
   "outputs": [],
   "source": [
    "# Turn this cell into a markdown cell and edit this cell to\n",
    "# enter your solution here. If you are turning your solution\n",
    "# in on Canvas, this please write \"I'm turning this in on \n",
    "# Canvas.\""
   ]
  },
  {
   "cell_type": "markdown",
   "id": "acc6b3e4-4a0c-4418-bb63-cf7cc3463f71",
   "metadata": {},
   "source": [
    "## Part 2: Analytical Solution Plot\n",
    "\n",
    "Now that you have verified the equation is a solution, create a plot of the solution below.\n",
    "\n",
    "#### Solution:"
   ]
  },
  {
   "cell_type": "code",
   "execution_count": null,
   "id": "88cf27e9-390a-4cb2-8097-414102d26ebd",
   "metadata": {},
   "outputs": [],
   "source": [
    "# define constants\n",
    "m = 1\n",
    "k = 2.25\n",
    "# mu = 0.6 # uncomment if pursuing the challenge option\n",
    "\n",
    "# define initial conditions\n",
    "x_0 = 2 # initial position\n",
    "v_0 = 0 # initial velocity\n",
    "\n",
    "# make a time array\n",
    "dt = 0.1\n",
    "t = np.arange(0,20,dt)\n",
    "\n",
    "# compute the trajectory\n",
    "\n",
    "\n",
    "# generate the figure\n",
    "\n"
   ]
  },
  {
   "cell_type": "markdown",
   "id": "7a939055-ea41-4527-9e0f-e8a5ab86e1e9",
   "metadata": {},
   "source": [
    "## Part 3: Discretize the Solution\n",
    "\n",
    "With the analytical solution in hand, next we'll work to solve the equation numerically.\n",
    "\n",
    "In class, we saw a few different \"difference methods\" to approximate a derivative numerically. In this problem, write down a numerical approximation for $x''(t)$.\n",
    "\n",
    "If you are pursuing the challenge option, then also write down a numerical approximation for $x'(t)$. \n",
    "\n",
    "As above, you can either write you equations here or on a page submitted to Canvas.\n",
    "\n",
    "#### Solution:"
   ]
  },
  {
   "cell_type": "code",
   "execution_count": null,
   "id": "ceec591f-99dd-4292-b946-d7713f1d672b",
   "metadata": {},
   "outputs": [],
   "source": [
    "# Turn this cell into a markdown cell and edit this cell to\n",
    "# enter your solution here. If you are turning your solution\n",
    "# in on Canvas, this please write \"I'm turning this in on \n",
    "# Canvas.\""
   ]
  },
  {
   "cell_type": "markdown",
   "id": "dc655d1a-96db-42c0-9c3f-0178a16d5449",
   "metadata": {},
   "source": [
    "## Part 4: Derive a time-stepping scheme\n",
    "\n",
    "Now that you've got an approximation for $x''(t)$ (and $x'(t)$ for option 2), substitute this approximation into the differential equation and derive a time-stepping scheme. In other words, one side of your equation should have the term $x(t+\\Delta t)$ and the other side of your equation should have other terms that do not include $x(t+\\Delta t)$. This will allow you to estimate $x$ at a time $\\Delta t$ seconds further in the future:\n",
    "\n",
    "As above, you can either write your equations here or on a page submitted to Canvas.\n",
    "\n",
    "#### Solution:"
   ]
  },
  {
   "cell_type": "code",
   "execution_count": null,
   "id": "87cda9a3-5a4b-47e0-896d-359a67126315",
   "metadata": {},
   "outputs": [],
   "source": [
    "# Turn this cell into a markdown cell and edit this cell to\n",
    "# enter your solution here. If you are turning your solution\n",
    "# in on Canvas, this please write \"I'm turning this in on \n",
    "# Canvas.\""
   ]
  },
  {
   "cell_type": "markdown",
   "id": "f4eb3870-a977-4938-986a-bbee35d4e2f9",
   "metadata": {},
   "source": [
    "## Part 5: Numerical Solution\n",
    "Using your timestepping scheme, create a numerical solution to the differential equation for the timesteps given in the array below.\n",
    "\n",
    "Note that your solution will start at $t=0$ but your timestepping scheme will have a term for $x(t-\\Delta t)$. In this case, substitute $x(0)$ for $x(-\\Delta t)$ for the first timestep only.\n",
    "\n",
    "#### Solution:"
   ]
  },
  {
   "cell_type": "code",
   "execution_count": null,
   "id": "b97d289a",
   "metadata": {},
   "outputs": [],
   "source": [
    "# make a time array for the iteration\n",
    "delta_t = 0.1\n",
    "n_timesteps = int(20/delta_t)\n",
    "\n",
    "# make an empty array to store the solution\n",
    "x_solution = np.zeros((n_timesteps,))\n",
    "\n",
    "# start the solution with the initial position\n",
    "\n",
    "\n",
    "# loop through the total number of timesteps\n",
    "\n",
    "\n",
    "    # estimate the next position\n",
    "\n",
    "\n",
    "    # fill in the solution array at the next position with the estimate\n",
    "    "
   ]
  },
  {
   "cell_type": "markdown",
   "id": "93e02b10-a97a-4ad4-8dbd-bae985459192",
   "metadata": {},
   "source": [
    "## Part 6: Numerical Solution\n",
    "Now, plot the numerical solution on the same plot as the analytical solution to compare results. Note that you can copy/paste/edit your plotting code from above here."
   ]
  },
  {
   "cell_type": "code",
   "execution_count": null,
   "id": "ffd19637-776a-42a4-b18a-d1bb89d6a7e5",
   "metadata": {},
   "outputs": [],
   "source": [
    "# enter your plot here\n"
   ]
  },
  {
   "cell_type": "markdown",
   "id": "9d1fbe8f-c22e-4d5c-ac27-3249d00ae5f6",
   "metadata": {},
   "source": [
    "## Part 7: Stability of the Numerical Solution\n",
    "In the solution above, the timestep $\\Delta t$ given in the starter code ensures that the solution is stable. Try a few other values for $\\Delta t$ to determine when the solution is stable. In other words, what range of timesteps gives you values in the same range as the analytical solution? What range gives you values that cause the solution to \"blow up\"? What leads to these numerical instabilities?"
   ]
  },
  {
   "cell_type": "code",
   "execution_count": null,
   "id": "72f28424-ebb1-4c23-abba-3489bc5b6fff",
   "metadata": {},
   "outputs": [],
   "source": [
    "# Turn this cell into a markdown cell and edit this cell to\n",
    "# enter your solution here. "
   ]
  }
 ],
 "metadata": {
  "kernelspec": {
   "display_name": "Python 3 (ipykernel)",
   "language": "python",
   "name": "python3"
  },
  "language_info": {
   "codemirror_mode": {
    "name": "ipython",
    "version": 3
   },
   "file_extension": ".py",
   "mimetype": "text/x-python",
   "name": "python",
   "nbconvert_exporter": "python",
   "pygments_lexer": "ipython3",
   "version": "3.11.9"
  }
 },
 "nbformat": 4,
 "nbformat_minor": 5
}
